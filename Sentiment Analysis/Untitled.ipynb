{
 "cells": [
  {
   "cell_type": "code",
   "execution_count": 1,
   "id": "e1542991-0231-4d12-85fb-c78681b2d395",
   "metadata": {},
   "outputs": [
    {
     "name": "stdout",
     "output_type": "stream",
     "text": [
      "True\n"
     ]
    }
   ],
   "source": [
    "import torch\n",
    "print(torch.cuda.is_available())"
   ]
  },
  {
   "cell_type": "code",
   "execution_count": 2,
   "id": "7f7772e6-2c30-41c3-8b24-954f0c25f08c",
   "metadata": {},
   "outputs": [],
   "source": [
    "import numpy as np # linear algebra\n",
    "import pandas as pd # data processing, CSV file I/O (e.g. pd.read_csv)\n",
    "import torch\n",
    "import torch.nn as nn\n",
    "import torch.nn.functional as F\n",
    "import nltk\n",
    "from nltk.corpus import stopwords \n",
    "from collections import Counter\n",
    "import string\n",
    "import re\n",
    "import seaborn as sns\n",
    "from tqdm import tqdm\n",
    "import matplotlib.pyplot as plt\n",
    "from torch.utils.data import TensorDataset, DataLoader\n",
    "from sklearn.model_selection import train_test_split\n",
    "\n",
    "# nltk.download('stopwords')"
   ]
  },
  {
   "cell_type": "code",
   "execution_count": 3,
   "id": "649faf10-74ac-4cab-8f85-b8dd797373d7",
   "metadata": {},
   "outputs": [
    {
     "name": "stdout",
     "output_type": "stream",
     "text": [
      "GPU is available\n"
     ]
    }
   ],
   "source": [
    "is_cuda = torch.cuda.is_available()\n",
    "\n",
    "# If we have a GPU available, we'll set our device to GPU. We'll use this device variable later in our code.\n",
    "if is_cuda:\n",
    "    device = torch.device(\"cuda\")\n",
    "    print(\"GPU is available\")\n",
    "else:\n",
    "    device = torch.device(\"cpu\")\n",
    "    print(\"GPU not available, CPU used\")"
   ]
  },
  {
   "cell_type": "code",
   "execution_count": 4,
   "id": "00c99096-f491-402f-adcf-31660b5a3a76",
   "metadata": {},
   "outputs": [
    {
     "data": {
      "text/html": [
       "<div>\n",
       "<style scoped>\n",
       "    .dataframe tbody tr th:only-of-type {\n",
       "        vertical-align: middle;\n",
       "    }\n",
       "\n",
       "    .dataframe tbody tr th {\n",
       "        vertical-align: top;\n",
       "    }\n",
       "\n",
       "    .dataframe thead th {\n",
       "        text-align: right;\n",
       "    }\n",
       "</style>\n",
       "<table border=\"1\" class=\"dataframe\">\n",
       "  <thead>\n",
       "    <tr style=\"text-align: right;\">\n",
       "      <th></th>\n",
       "      <th>review</th>\n",
       "      <th>sentiment</th>\n",
       "    </tr>\n",
       "  </thead>\n",
       "  <tbody>\n",
       "    <tr>\n",
       "      <th>0</th>\n",
       "      <td>One of the other reviewers has mentioned that ...</td>\n",
       "      <td>positive</td>\n",
       "    </tr>\n",
       "    <tr>\n",
       "      <th>1</th>\n",
       "      <td>A wonderful little production. &lt;br /&gt;&lt;br /&gt;The...</td>\n",
       "      <td>positive</td>\n",
       "    </tr>\n",
       "    <tr>\n",
       "      <th>2</th>\n",
       "      <td>I thought this was a wonderful way to spend ti...</td>\n",
       "      <td>positive</td>\n",
       "    </tr>\n",
       "    <tr>\n",
       "      <th>3</th>\n",
       "      <td>Basically there's a family where a little boy ...</td>\n",
       "      <td>negative</td>\n",
       "    </tr>\n",
       "    <tr>\n",
       "      <th>4</th>\n",
       "      <td>Petter Mattei's \"Love in the Time of Money\" is...</td>\n",
       "      <td>positive</td>\n",
       "    </tr>\n",
       "  </tbody>\n",
       "</table>\n",
       "</div>"
      ],
      "text/plain": [
       "                                              review sentiment\n",
       "0  One of the other reviewers has mentioned that ...  positive\n",
       "1  A wonderful little production. <br /><br />The...  positive\n",
       "2  I thought this was a wonderful way to spend ti...  positive\n",
       "3  Basically there's a family where a little boy ...  negative\n",
       "4  Petter Mattei's \"Love in the Time of Money\" is...  positive"
      ]
     },
     "execution_count": 4,
     "metadata": {},
     "output_type": "execute_result"
    }
   ],
   "source": [
    "# Read the IMDB Reviews (.csv) file\n",
    "df = pd.read_csv(\"base.csv\")\n",
    "df.head()"
   ]
  },
  {
   "cell_type": "markdown",
   "id": "3caaa3cb-9c3c-461a-a2ca-352646a2f590",
   "metadata": {},
   "source": [
    "### Splitting to train and test data\n",
    "We will split data to train and test initially. Doing this on earlier stage allows to avoid data lekage."
   ]
  },
  {
   "cell_type": "code",
   "execution_count": 5,
   "id": "637a351f-cbc5-4069-9c85-18686d2d6bb4",
   "metadata": {},
   "outputs": [
    {
     "name": "stdout",
     "output_type": "stream",
     "text": [
      "shape of train data is (37500,)\n",
      "shape of test data is (12500,)\n"
     ]
    }
   ],
   "source": [
    "X, y = df['review'].values, df['sentiment'].values\n",
    "x_train, x_test, y_train, y_test = train_test_split(X, y, stratify=y)\n",
    "print(f'shape of train data is {x_train.shape}')\n",
    "print(f'shape of test data is {x_test.shape}')\n"
   ]
  },
  {
   "cell_type": "markdown",
   "id": "8febd7b3-6acc-44dd-8e45-a45ffc7543fc",
   "metadata": {},
   "source": [
    "### Analysing sentiment"
   ]
  },
  {
   "cell_type": "code",
   "execution_count": 6,
   "id": "bb194c5f-ae22-4e8b-8f29-121cbf2c1b08",
   "metadata": {},
   "outputs": [
    {
     "data": {
      "image/png": "[encoded data removed]",
      "text/plain": [
       "<Figure size 640x480 with 1 Axes>"
      ]
     },
     "metadata": {},
     "output_type": "display_data"
    }
   ],
   "source": [
    "dd = pd.Series(y_train).value_counts()\n",
    "sns.barplot(x=np.array(['negative','positive']),y=dd.values)\n",
    "plt.show()"
   ]
  },
  {
   "cell_type": "markdown",
   "id": "2a6d5393-b72a-456a-a666-3e2ff2d50282",
   "metadata": {},
   "source": [
    "### Tokenisation"
   ]
  },
  {
   "cell_type": "code",
   "execution_count": 7,
   "id": "6dcc1e95-6e39-48b2-bf64-50a875760042",
   "metadata": {},
   "outputs": [],
   "source": [
    "def preprocess_string(s):\n",
    "    # Remove all non-word characters (everything except numbers and letters)\n",
    "    s = re.sub(r\"[^\\w\\s]\", '', s)\n",
    "    # Replace all runs of whitespaces with no space\n",
    "    s = re.sub(r\"\\s+\", '', s)\n",
    "    # replace digits with no space\n",
    "    s = re.sub(r\"\\d\", '', s)\n",
    "\n",
    "    return s\n",
    "\n",
    "def tokenize(x_train, y_train, x_val, y_val):\n",
    "    word_list = []\n",
    "    \n",
    "    # stopwords: Words that have little to no significance in NLP tasks due to their high freuency and lack of semantic meaning\n",
    "    stop_words = set(stopwords.words('english')) \n",
    "    \n",
    "    # Iterate through each sentence in x_train\n",
    "    for sent in x_train:\n",
    "        # Split sentence into words and preprocess each word\n",
    "        for word in sent.lower().split():\n",
    "            word = preprocess_string(word)  # Assuming preprocess_string is defined elsewhere\n",
    "            # Check if word is not a stop word and is not empty after preprocessing\n",
    "            if word not in stop_words and word != '':\n",
    "                word_list.append(word)\n",
    "  \n",
    "    # Count occurrences of each word\n",
    "    corpus = Counter(word_list)\n",
    "    # Sort words based on frequency and select top 1000 most common words\n",
    "    corpus_ = sorted(corpus, key=corpus.get, reverse=True)[:1000]\n",
    "    # Create a dictionary mapping each word to a unique integer (1-indexed)\n",
    "    onehot_dict = {w: i+1 for i, w in enumerate(corpus_)}\n",
    "    \n",
    "    # Tokenize x_train and x_val based on onehot_dict\n",
    "    final_list_train = [[onehot_dict.get(preprocess_string(word), 0) for word in sent.lower().split() \n",
    "                         if preprocess_string(word) in onehot_dict.keys()] for sent in x_train]\n",
    "    \n",
    "    final_list_test = [[onehot_dict.get(preprocess_string(word), 0) for word in sent.lower().split() \n",
    "                        if preprocess_string(word) in onehot_dict.keys()] for sent in x_val]\n",
    "    \n",
    "    # Encode labels ('positive' as 1 and 'negative' as 0)\n",
    "    encoded_train = np.array([1 if label == 'positive' else 0 for label in y_train])\n",
    "    encoded_test = np.array([1 if label == 'positive' else 0 for label in y_val])\n",
    "    \n",
    "    # Return tokenized data, encoded labels, and the vocabulary dictionary\n",
    "    return final_list_train, encoded_train, final_list_test, encoded_test, onehot_dict"
   ]
  },
  {
   "cell_type": "code",
   "execution_count": 8,
   "id": "2a93df07-1927-4e28-b612-ba5f3c393179",
   "metadata": {},
   "outputs": [],
   "source": [
    "# Assume tokenize function tokenizes the input data and builds a vocabulary\n",
    "\n",
    "# Assuming x_train, y_train, x_test, y_test are lists or arrays containing training and testing data\n",
    "# and vocab is a dictionary that maps words to indices\n",
    "\n",
    "# Tokenize the training and testing data and build vocabulary\n",
    "x_train, y_train, x_test, y_test, vocab = tokenize(x_train, y_train, x_test, y_test)"
   ]
  },
  {
   "cell_type": "code",
   "execution_count": 9,
   "id": "e5bbf9d0-6bf5-4873-b888-f7bd3e0f6e09",
   "metadata": {},
   "outputs": [
    {
     "name": "stdout",
     "output_type": "stream",
     "text": [
      "Length of vocabulary is 1000\n"
     ]
    }
   ],
   "source": [
    "print(f'Length of vocabulary is {len(vocab)}')"
   ]
  },
  {
   "cell_type": "markdown",
   "id": "870066cf-d4ed-414d-849d-567c5df7401a",
   "metadata": {},
   "source": [
    "### Analysing review length"
   ]
  },
  {
   "cell_type": "code",
   "execution_count": 10,
   "id": "db1cf980-1c06-4615-b69a-bb2373706ac5",
   "metadata": {},
   "outputs": [
    {
     "data": {
      "image/png": "[encoded data removed]",
      "text/plain": [
       "<Figure size 640x480 with 1 Axes>"
      ]
     },
     "metadata": {},
     "output_type": "display_data"
    },
    {
     "data": {
      "text/plain": [
       "count    37500.000000\n",
       "mean        69.439627\n",
       "std         48.456365\n",
       "min          0.000000\n",
       "25%         39.000000\n",
       "50%         54.000000\n",
       "75%         85.000000\n",
       "max        652.000000\n",
       "dtype: float64"
      ]
     },
     "execution_count": 10,
     "metadata": {},
     "output_type": "execute_result"
    }
   ],
   "source": [
    "rev_len = [len(i) for i in x_train]\n",
    "pd.Series(rev_len).hist()\n",
    "plt.show()\n",
    "pd.Series(rev_len).describe()"
   ]
  },
  {
   "cell_type": "markdown",
   "id": "fb3e1b6f-13f9-4968-8963-a152b6071dea",
   "metadata": {},
   "source": [
    "### Padding\n",
    "Now we pad each of the sequences to their maximum length"
   ]
  },
  {
   "cell_type": "code",
   "execution_count": 11,
   "id": "05203902-3fbb-4151-a9d0-4d852d619175",
   "metadata": {},
   "outputs": [],
   "source": [
    "def padding_(sentences, seq_len):\n",
    "    # Initialize a NumPy array filled with zeros to store the padded sequences\n",
    "    features = np.zeros((len(sentences), seq_len), dtype=int)\n",
    "\n",
    "    # Iterate over each sequence (or sentence) in the input list 'sentences'\n",
    "    for ii, review in enumerate(sentences):\n",
    "        # Check if the current sequence 'review' is not empty\n",
    "        if len(review) != 0:\n",
    "            features[ii, -len(review):] = np.array(review)[:seq_len]\n",
    "\n",
    "    # Return the NumPy array 'features' containing the padded or truncated sequences\n",
    "    return features"
   ]
  },
  {
   "cell_type": "code",
   "execution_count": 12,
   "id": "b148c77f-71d5-44c2-b225-d665977d2397",
   "metadata": {},
   "outputs": [
    {
     "name": "stdout",
     "output_type": "stream",
     "text": [
      "12500 12500\n"
     ]
    }
   ],
   "source": [
    "#we have very less number of reviews with length > 500.\n",
    "#So we will consideronly those below it.\n",
    "x_train_pad = padding_(x_train,500)\n",
    "x_test_pad = padding_(x_test,500)\n",
    "\n",
    "print(len(x_test), len(y_test))"
   ]
  },
  {
   "cell_type": "code",
   "execution_count": 13,
   "id": "cab0270a-54a0-4a9a-b123-359d2ff19a3b",
   "metadata": {},
   "outputs": [],
   "source": [
    "# Convert training and testing data to numpy array\n",
    "x_train_pad = np.array(x_train_pad)\n",
    "x_test_pad = np.array(x_test_pad)\n",
    "y_train = np.array(y_train)\n",
    "y_test = np.array(y_test)"
   ]
  },
  {
   "cell_type": "code",
   "execution_count": 14,
   "id": "6a6f18c0-8fc5-4004-9595-bd698fb5fdc4",
   "metadata": {},
   "outputs": [],
   "source": [
    "# create Tensor datasets\n",
    "train_data = TensorDataset(torch.from_numpy(x_train_pad), torch.from_numpy(y_train))\n",
    "valid_data = TensorDataset(torch.from_numpy(x_test_pad), torch.from_numpy(y_test))\n",
    "\n",
    "# dataloaders\n",
    "batch_size = 50\n",
    "\n",
    "# make sure to SHUFFLE your data\n",
    "train_loader = DataLoader(train_data, shuffle=True, batch_size=batch_size)\n",
    "valid_loader = DataLoader(valid_data, shuffle=True, batch_size=batch_size)"
   ]
  },
  {
   "cell_type": "code",
   "execution_count": 15,
   "id": "115a5c56-7a63-4285-a963-1cd58b7a6b28",
   "metadata": {},
   "outputs": [
    {
     "name": "stdout",
     "output_type": "stream",
     "text": [
      "Sample input size:  torch.Size([50, 500])\n",
      "Sample input: \n",
      " tensor([[  0,   0,   0,  ..., 219,  12,   1],\n",
      "        [  0,   0,   0,  ..., 508,  28,  83],\n",
      "        [  0,   0,   0,  ...,   1, 669,   2],\n",
      "        ...,\n",
      "        [  0,   0,   0,  ..., 780,  10, 890],\n",
      "        [  0,   0,   0,  ...,  46, 211,   2],\n",
      "        [  0,   0,   0,  ..., 565, 670, 340]], dtype=torch.int32)\n",
      "Sample input: \n",
      " tensor([0, 1, 0, 0, 1, 0, 1, 0, 1, 1, 0, 0, 1, 1, 1, 1, 1, 0, 0, 0, 0, 1, 0, 1,\n",
      "        1, 1, 0, 1, 1, 1, 1, 1, 1, 1, 1, 0, 0, 0, 0, 0, 0, 1, 0, 1, 1, 1, 1, 1,\n",
      "        0, 1], dtype=torch.int32)\n"
     ]
    }
   ],
   "source": [
    "# obtain one batch of training data\n",
    "dataiter = iter(train_loader)\n",
    "sample_x, sample_y = next(dataiter)\n",
    "\n",
    "print('Sample input size: ', sample_x.size()) # batch_size, seq_length\n",
    "print('Sample input: \\n', sample_x)\n",
    "print('Sample input: \\n', sample_y)"
   ]
  },
  {
   "cell_type": "code",
   "execution_count": 16,
   "id": "d53b7b92-cf4f-4eb9-aaf7-cf22ad0092e6",
   "metadata": {},
   "outputs": [],
   "source": [
    "class SentimentRNN(nn.Module):\n",
    "    def __init__(self, no_layers, vocab_size, hidden_dim, embedding_dim, output_dim, drop_prob=0.5):\n",
    "        super(SentimentRNN, self).__init__()\n",
    " \n",
    "        self.output_dim = output_dim  # Dimension of the output\n",
    "        self.hidden_dim = hidden_dim  # Dimension of the hidden state\n",
    "        \n",
    "        self.no_layers = no_layers  # Number of LSTM layers\n",
    "        self.vocab_size = vocab_size  # Size of the vocabulary\n",
    "    \n",
    "        # Embedding layer that converts word indices to word vectors\n",
    "        self.embedding = nn.Embedding(vocab_size, embedding_dim)\n",
    "        \n",
    "        # LSTM layer\n",
    "        self.lstm = nn.LSTM(input_size=embedding_dim,  # Input size (embedding dimension)\n",
    "                            hidden_size=self.hidden_dim,  # Hidden state size\n",
    "                            num_layers=no_layers,  # Number of LSTM layers\n",
    "                            batch_first=True)  # Batch size as the first dimension\n",
    "        \n",
    "        # Dropout layer to avoid overfitting\n",
    "        self.dropout = nn.Dropout(0.3)\n",
    "\n",
    "        # Fully connected linear layer and a sigmoid activation function\n",
    "        self.fc = nn.Linear(self.hidden_dim, output_dim)\n",
    "        self.sig = nn.Sigmoid()\n",
    "        \n",
    "    def forward(self, x, hidden):\n",
    "        batch_size = x.size(0)  # Get the batch size\n",
    "        \n",
    "        # Embedding layer\n",
    "        embeds = self.embedding(x)  # Convert word indices to word vectors\n",
    "        \n",
    "        # LSTM layer\n",
    "        lstm_out, hidden = self.lstm(embeds, hidden)  # Pass embeddings through LSTM\n",
    "        \n",
    "        # Reshape LSTM output to feed into the fully connected layer\n",
    "        lstm_out = lstm_out.contiguous().view(-1, self.hidden_dim) \n",
    "        \n",
    "        # Apply dropout\n",
    "        out = self.dropout(lstm_out)\n",
    "        \n",
    "        # Fully connected layer\n",
    "        out = self.fc(out)\n",
    "        \n",
    "        # Sigmoid activation function\n",
    "        sig_out = self.sig(out)\n",
    "        \n",
    "        # Reshape the output to be batch_size first\n",
    "        sig_out = sig_out.view(batch_size, -1)\n",
    "        \n",
    "        # Get the last batch of labels\n",
    "        sig_out = sig_out[:, -1]\n",
    "        \n",
    "        # Return the last sigmoid output and hidden state\n",
    "        return sig_out, hidden\n",
    "        \n",
    "    def init_hidden(self, batch_size):\n",
    "        '''Initializes hidden state'''\n",
    "        # Create new tensors for hidden state and cell state, initialized to zero\n",
    "        h0 = torch.zeros((self.no_layers, batch_size, self.hidden_dim)).to(device)\n",
    "        c0 = torch.zeros((self.no_layers, batch_size, self.hidden_dim)).to(device)\n",
    "        \n",
    "        # Hidden state is a tuple of (h0, c0)\n",
    "        hidden = (h0, c0)\n",
    "        return hidden\n"
   ]
  },
  {
   "cell_type": "code",
   "execution_count": 17,
   "id": "28583e83-5069-49f1-bb09-acca2cd33825",
   "metadata": {},
   "outputs": [
    {
     "name": "stdout",
     "output_type": "stream",
     "text": [
      "SentimentRNN(\n",
      "  (embedding): Embedding(1001, 64)\n",
      "  (lstm): LSTM(64, 256, num_layers=2, batch_first=True)\n",
      "  (dropout): Dropout(p=0.3, inplace=False)\n",
      "  (fc): Linear(in_features=256, out_features=1, bias=True)\n",
      "  (sig): Sigmoid()\n",
      ")\n"
     ]
    }
   ],
   "source": [
    "# Define hyperparameters\n",
    "no_layers = 2  # Number of LSTM layers\n",
    "vocab_size = len(vocab) + 1  # Size of the vocabulary (+1 for padding)\n",
    "embedding_dim = 64  # Dimension of the word embeddings\n",
    "output_dim = 1  # Dimension of the output (binary classification)\n",
    "hidden_dim = 256  # Dimension of the hidden state in the LSTM\n",
    "\n",
    "# Instantiate the SentimentRNN model with the specified parameters\n",
    "model = SentimentRNN(no_layers, vocab_size, hidden_dim, embedding_dim, output_dim, drop_prob=0.5)\n",
    "\n",
    "# Move the model to the GPU if available\n",
    "model.to(device)\n",
    "\n",
    "# Print the model architecture\n",
    "print(model)"
   ]
  },
  {
   "cell_type": "code",
   "execution_count": 18,
   "id": "378e8d98-82d3-4e76-bd6c-2d5ae7d4ae24",
   "metadata": {},
   "outputs": [],
   "source": [
    "# Learning rate\n",
    "lr = 0.001  # Set the learning rate for the optimizer\n",
    "\n",
    "# Define the loss function\n",
    "criterion = nn.BCELoss()  # Binary Cross Entropy loss for binary classification\n",
    "\n",
    "# Define the optimizer\n",
    "optimizer = torch.optim.Adam(model.parameters(), lr=lr)  # Adam optimizer with specified learning rate\n",
    "\n",
    "# Function to calculate accuracy\n",
    "def acc(pred, label):\n",
    "    # Round predictions to the nearest integer (0 or 1)\n",
    "    pred = torch.round(pred.squeeze())\n",
    "    \n",
    "    # Compare rounded predictions to the true labels and count correct predictions\n",
    "    return torch.sum(pred == label.squeeze()).item()\n"
   ]
  },
  {
   "cell_type": "code",
   "execution_count": 19,
   "id": "e987a5d0-7995-4530-bfe0-91b72ca4230c",
   "metadata": {},
   "outputs": [
    {
     "name": "stdout",
     "output_type": "stream",
     "text": [
      "Epoch 1\n",
      "Train Loss: 0.516526, Validation Loss: 0.406764\n",
      "Train Accuracy: 74.94%, Validation Accuracy: 82.16%\n",
      "Validation loss decreased (inf --> 0.406764). Saving model ...\n",
      "==================================================\n",
      "Epoch 2\n",
      "Train Loss: 0.391404, Validation Loss: 0.358456\n",
      "Train Accuracy: 83.12%, Validation Accuracy: 84.44%\n",
      "Validation loss decreased (0.406764 --> 0.358456). Saving model ...\n",
      "==================================================\n",
      "Epoch 3\n",
      "Train Loss: 0.343915, Validation Loss: 0.344633\n",
      "Train Accuracy: 85.40%, Validation Accuracy: 84.77%\n",
      "Validation loss decreased (0.358456 --> 0.344633). Saving model ...\n",
      "==================================================\n",
      "Epoch 4\n",
      "Train Loss: 0.318536, Validation Loss: 0.337680\n",
      "Train Accuracy: 86.46%, Validation Accuracy: 85.56%\n",
      "Validation loss decreased (0.344633 --> 0.337680). Saving model ...\n",
      "==================================================\n",
      "Epoch 5\n",
      "Train Loss: 0.299414, Validation Loss: 0.379556\n",
      "Train Accuracy: 87.43%, Validation Accuracy: 84.47%\n",
      "==================================================\n"
     ]
    }
   ],
   "source": [
    "clip = 5  # Gradient clipping threshold\n",
    "epochs = 5  # Number of epochs to train\n",
    "valid_loss_min = np.Inf  # Initialize the minimum validation loss to infinity\n",
    "\n",
    "# Lists to store training and validation losses and accuracies for each epoch\n",
    "epoch_tr_loss, epoch_vl_loss = [], []\n",
    "epoch_tr_acc, epoch_vl_acc = [], []\n",
    "\n",
    "for epoch in range(epochs):\n",
    "    train_losses = []  # List to store training losses for each batch\n",
    "    train_acc = 0.0  # Variable to accumulate training accuracy\n",
    "    model.train()  # Set the model to training mode\n",
    "\n",
    "    # Initialize hidden state for the RNN\n",
    "    h = model.init_hidden(batch_size)\n",
    "\n",
    "    for inputs, labels in train_loader:\n",
    "        inputs, labels = inputs.to(device), labels.to(device)  # Move data to the device (GPU or CPU)\n",
    "        \n",
    "        # Create new variables for the hidden state to avoid backpropagating through the entire training history\n",
    "        h = tuple([each.data for each in h])\n",
    "\n",
    "        model.zero_grad()  # Clear previous gradients\n",
    "        output, h = model(inputs, h)  # Forward pass through the model\n",
    "        \n",
    "        # Calculate the loss\n",
    "        loss = criterion(output.squeeze(), labels.float())\n",
    "        loss.backward()  # Backward pass to compute gradients\n",
    "        train_losses.append(loss.item())  # Store the loss value\n",
    "\n",
    "        # Calculate accuracy\n",
    "        accuracy = acc(output, labels)\n",
    "        train_acc += accuracy\n",
    "\n",
    "        # Clip gradients to prevent the exploding gradient problem in RNNs / LSTMs\n",
    "        nn.utils.clip_grad_norm_(model.parameters(), clip)\n",
    "        optimizer.step()  # Update model parameters\n",
    "\n",
    "    # Initialize hidden state for validation\n",
    "    val_h = model.init_hidden(batch_size)\n",
    "    val_losses = []  # List to store validation losses for each batch\n",
    "    val_acc = 0.0  # Variable to accumulate validation accuracy\n",
    "    model.eval()  # Set the model to evaluation mode\n",
    "\n",
    "    for inputs, labels in valid_loader:\n",
    "        val_h = tuple([each.data for each in val_h])  # Create new variables for the hidden state\n",
    "        inputs, labels = inputs.to(device), labels.to(device)  # Move data to the device\n",
    "\n",
    "        output, val_h = model(inputs, val_h)  # Forward pass through the model\n",
    "        val_loss = criterion(output.squeeze(), labels.float())  # Calculate the validation loss\n",
    "        val_losses.append(val_loss.item())  # Store the validation loss value\n",
    "        \n",
    "        # Calculate accuracy\n",
    "        accuracy = acc(output, labels)\n",
    "        val_acc += accuracy\n",
    "\n",
    "    # Calculate average losses and accuracies for the epoch\n",
    "    epoch_train_loss = np.mean(train_losses)\n",
    "    epoch_val_loss = np.mean(val_losses)\n",
    "    epoch_train_acc = train_acc / len(train_loader.dataset)\n",
    "    epoch_val_acc = val_acc / len(valid_loader.dataset)\n",
    "    \n",
    "    # Store losses and accuracies for the epoch\n",
    "    epoch_tr_loss.append(epoch_train_loss)\n",
    "    epoch_vl_loss.append(epoch_val_loss)\n",
    "    epoch_tr_acc.append(epoch_train_acc)\n",
    "    epoch_vl_acc.append(epoch_val_acc)\n",
    "\n",
    "    # Print training and validation statistics for the epoch\n",
    "    print(f'Epoch {epoch+1}') \n",
    "    print(f'Train Loss: {epoch_train_loss:.6f}, Validation Loss: {epoch_val_loss:.6f}')\n",
    "    print(f'Train Accuracy: {epoch_train_acc*100:.2f}%, Validation Accuracy: {epoch_val_acc*100:.2f}%')\n",
    "\n",
    "    # Check if the validation loss has decreased\n",
    "    if epoch_val_loss <= valid_loss_min:\n",
    "        # Save the model state dictionary if validation loss has decreased\n",
    "        torch.save(model.state_dict(), 'working/state_dict.pt')\n",
    "        print('Validation loss decreased ({:.6f} --> {:.6f}). Saving model ...'.format(valid_loss_min, epoch_val_loss))\n",
    "        valid_loss_min = epoch_val_loss  # Update the minimum validation loss\n",
    "\n",
    "    # Print a separator for readability\n",
    "    print('=' * 50)\n"
   ]
  },
  {
   "cell_type": "code",
   "execution_count": 20,
   "id": "e1ccc04c-6e67-4440-b364-878c1c45980e",
   "metadata": {},
   "outputs": [
    {
     "data": {
      "image/png": "[encoded data removed]",
      "text/plain": [
       "<Figure size 2000x600 with 2 Axes>"
      ]
     },
     "metadata": {},
     "output_type": "display_data"
    }
   ],
   "source": [
    "# Create a figure with a specified size (20 inches by 6 inches)\n",
    "fig = plt.figure(figsize=(20, 6))\n",
    "\n",
    "# Create the first subplot for accuracy\n",
    "plt.subplot(1, 2, 1)\n",
    "plt.plot(epoch_tr_acc, label='Train Acc')  # Plot training accuracy\n",
    "plt.plot(epoch_vl_acc, label='Validation Acc')  # Plot validation accuracy\n",
    "plt.title(\"Accuracy\")  # Set the title for the accuracy subplot\n",
    "plt.legend()  # Display the legend\n",
    "plt.grid()  # Display a grid for better readability\n",
    "\n",
    "# Create the second subplot for loss\n",
    "plt.subplot(1, 2, 2)\n",
    "plt.plot(epoch_tr_loss, label='Train Loss')  # Plot training loss\n",
    "plt.plot(epoch_vl_loss, label='Validation Loss')  # Plot validation loss\n",
    "plt.title(\"Loss\")  # Set the title for the loss subplot\n",
    "plt.legend()  # Display the legend\n",
    "plt.grid()  # Display a grid for better readability\n",
    "\n",
    "# Display the figure\n",
    "plt.show()"
   ]
  },
  {
   "cell_type": "code",
   "execution_count": 21,
   "id": "a1aeb655-f3b0-4c50-bbc1-efc8b2baa509",
   "metadata": {},
   "outputs": [],
   "source": [
    "def predict_text(text):\n",
    "    # Convert each word in the input text to its corresponding index in the vocabulary\n",
    "    word_seq = np.array([vocab[preprocess_string(word)] for word in text.split()\n",
    "                         if preprocess_string(word) in vocab.keys()])\n",
    "    \n",
    "    # Add an extra dimension to make it a batch of size 1\n",
    "    word_seq = np.expand_dims(word_seq, axis=0)\n",
    "    \n",
    "    # Pad the sequence to ensure it has a consistent length (in this case, 500)\n",
    "    pad = torch.from_numpy(padding_(word_seq, 500))\n",
    "    \n",
    "    # Move the padded sequence to the appropriate device (GPU or CPU)\n",
    "    inputs = pad.to(device)\n",
    "    \n",
    "    # Initialize the hidden state for the model with batch size 1\n",
    "    batch_size = 1\n",
    "    h = model.init_hidden(batch_size)\n",
    "    \n",
    "    # Ensure the hidden state is detached from the computational graph and converted to tensors\n",
    "    h = tuple([each.data for each in h])\n",
    "    \n",
    "    # Forward pass through the model to get the output\n",
    "    output, h = model(inputs, h)\n",
    "    \n",
    "    # Return the predicted output (as a single float value)\n",
    "    return output.item()\n"
   ]
  },
  {
   "cell_type": "code",
   "execution_count": 22,
   "id": "d357aaef-5a61-48eb-b4b5-558e5d201119",
   "metadata": {},
   "outputs": [
    {
     "name": "stdout",
     "output_type": "stream",
     "text": [
      "Taut and organically gripping, Edward Dmytryk's Crossfire is a distinctive suspense thriller, an unlikely \"message\" movie using the look and devices of the noir cycle.<br /><br />Bivouacked in Washington, DC, a company of soldiers cope with their restlessness by hanging out in bars. Three of them end up at a stranger's apartment where Robert Ryan, drunk and belligerent, beats their host (Sam Levene) to death because he happens to be Jewish. Police detective Robert Young investigates with the help of Robert Mitchum, who's assigned to Ryan's outfit. Suspicion falls on the second of the three (George Cooper), who has vanished. Ryan slays the third buddy (Steve Brodie) to insure his silence before Young closes in.<br /><br />Abetted by a superior script by John Paxton, Dmytryk draws precise performances from his three starring Bobs. Ryan, naturally, does his prototypical Angry White Male (and to the hilt), while Mitchum underplays with his characteristic alert nonchalance (his role, however, is not central); Young may never have been better. Gloria Grahame gives her first fully-fledged rendition of the smart-mouthed, vulnerable tramp, and, as a sad sack who's leeched into her life, Paul Kelly haunts us in a small, peripheral role that he makes memorable.<br /><br />The politically engaged Dmytryk perhaps inevitably succumbs to sermonizing, but it's pretty much confined to Young's reminiscence of how his Irish grandfather died at the hands of bigots a century earlier (thus, incidentally, stretching chronology to the limit). At least there's no attempt to render an explanation, however glib, of why Ryan hates Jews (and hillbillies and...).<br /><br />Curiously, Crossfire survives even the major change wrought upon it -- the novel it's based on (Richard Brooks' The Brick Foxhole) dealt with a gay-bashing murder. But homosexuality in 1947 was still Beyond The Pale. News of the Holocaust had, however, begun to emerge from the ashes of Europe, so Hollywood felt emboldened to register its protest against anti-Semitism (the studios always quaked at the prospect of offending any potential ticket buyer).<br /><br />But while the change from homophobia to anti-Semitism works in general, the specifics don't fit so smoothly. The victim's chatting up a lonesome, drunk young soldier then inviting him back home looks odd, even though (or especially since) there's a girlfriend in tow. It raises the question whether this scenario was retained inadvertently or left in as a discreet tip-off to the original engine generating Ryan's murderous rage.\n",
      "======================================================================\n",
      "Actual sentiment is  : positive\n",
      "======================================================================\n",
      "Predicted sentiment is positive with a probability of 0.9588384032249451\n"
     ]
    }
   ],
   "source": [
    "index = 30  # Index of the review to predict\n",
    "\n",
    "# Print the review text from the DataFrame at the specified index\n",
    "print(df['review'][index])\n",
    "print('='*70)\n",
    "\n",
    "# Print the actual sentiment label from the DataFrame at the specified index\n",
    "print(f'Actual sentiment is  : {df[\"sentiment\"][index]}')\n",
    "print('='*70)\n",
    "\n",
    "# Use the predict_text function to predict the sentiment of the review\n",
    "pro = predict_text(df['review'][index])\n",
    "\n",
    "# Determine if the predicted sentiment is positive or negative based on the predicted probability\n",
    "status = \"positive\" if pro > 0.5 else \"negative\"\n",
    "\n",
    "# Adjust the probability to be 1 - pro if the sentiment is predicted as negative\n",
    "pro = (1 - pro) if status == \"negative\" else pro\n",
    "\n",
    "# Print the predicted sentiment and its associated probability\n",
    "print(f'Predicted sentiment is {status} with a probability of {pro}')\n"
   ]
  },
  {
   "cell_type": "code",
   "execution_count": 23,
   "id": "bb582d09-79e1-4a14-b6a8-5cbc02404dc2",
   "metadata": {},
   "outputs": [
    {
     "name": "stdout",
     "output_type": "stream",
     "text": [
      "This short film that inspired the soon-to-be full length feature - Spatula Madness - is a hilarious piece that contends against similar cartoons yielding multiple writers. The short film stars Edward the Spatula who after being fired from his job, joins in the fight against the evil spoons. This premise allows for some funny content near the beginning, but is barely present for the remainder of the feature. This film's 15-minute running time is absorbed by some odd-ball comedy and a small musical number. Unfortunately not much else lies below it. The plot that is set up doesn't really have time to show. But it's surely follows it plot better than many high-budget Hollywood films. This film is worth watching at least a few times. Take it for what it is, and don't expect a deep story.\n",
      "======================================================================\n",
      "Actual sentiment is  : positive\n",
      "======================================================================\n",
      "Predicted sentiment is negative with a probability of 0.6808410882949829\n"
     ]
    }
   ],
   "source": [
    "index = 100  # Index of the review to predict\n",
    "\n",
    "# Print the review text from the DataFrame at the specified index\n",
    "print(df['review'][index])\n",
    "print('='*70)\n",
    "\n",
    "# Print the actual sentiment label from the DataFrame at the specified index\n",
    "print(f'Actual sentiment is  : {df[\"sentiment\"][index]}')\n",
    "print('='*70)\n",
    "\n",
    "# Use the predict_text function to predict the sentiment of the review\n",
    "pro = predict_text(df['review'][index])\n",
    "\n",
    "# Determine if the predicted sentiment is positive or negative based on the predicted probability\n",
    "status = \"positive\" if pro > 0.5 else \"negative\"\n",
    "\n",
    "# Adjust the probability to be 1 - pro if the sentiment is predicted as negative\n",
    "pro = (1 - pro) if status == \"negative\" else pro\n",
    "\n",
    "# Print the predicted sentiment and its associated probability\n",
    "print(f'Predicted sentiment is {status} with a probability of {pro}')\n"
   ]
  },
  {
   "cell_type": "code",
   "execution_count": null,
   "id": "ddc3218d-6b40-4dfb-b15f-66fe12e8ba34",
   "metadata": {},
   "outputs": [],
   "source": []
  },
  {
   "cell_type": "code",
   "execution_count": null,
   "id": "0ea84d88-84bd-4b33-8a96-089c4924a9e6",
   "metadata": {},
   "outputs": [],
   "source": []
  }
 ],
 "metadata": {
  "kernelspec": {
   "display_name": "Python 3 (ipykernel)",
   "language": "python",
   "name": "python3"
  },
  "language_info": {
   "codemirror_mode": {
    "name": "ipython",
    "version": 3
   },
   "file_extension": ".py",
   "mimetype": "text/x-python",
   "name": "python",
   "nbconvert_exporter": "python",
   "pygments_lexer": "ipython3",
   "version": "3.11.7"
  }
 },
 "nbformat": 4,
 "nbformat_minor": 5
}
